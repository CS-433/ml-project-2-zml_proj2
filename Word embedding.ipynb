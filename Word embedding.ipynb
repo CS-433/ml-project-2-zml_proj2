{
 "cells": [
  {
   "cell_type": "code",
   "execution_count": 1,
   "id": "d8e110d9",
   "metadata": {},
   "outputs": [],
   "source": [
    "import pandas as pd\n",
    "from tqdm.notebook import tqdm\n",
    "import json\n",
    "import re\n",
    "import numpy as np\n",
    "import pickle\n",
    "import fasttext.util\n",
    "\n",
    "import nltk\n",
    "from nltk.corpus import stopwords\n",
    "from nltk.tokenize import RegexpTokenizer\n",
    "from nltk.stem import WordNetLemmatizer"
   ]
  },
  {
   "cell_type": "markdown",
   "id": "689fe0ce",
   "metadata": {},
   "source": [
    "# Load data"
   ]
  },
  {
   "cell_type": "code",
   "execution_count": 2,
   "id": "18356895",
   "metadata": {},
   "outputs": [
    {
     "data": {
      "text/html": [
       "<div>\n",
       "<style scoped>\n",
       "    .dataframe tbody tr th:only-of-type {\n",
       "        vertical-align: middle;\n",
       "    }\n",
       "\n",
       "    .dataframe tbody tr th {\n",
       "        vertical-align: top;\n",
       "    }\n",
       "\n",
       "    .dataframe thead th {\n",
       "        text-align: right;\n",
       "    }\n",
       "</style>\n",
       "<table border=\"1\" class=\"dataframe\">\n",
       "  <thead>\n",
       "    <tr style=\"text-align: right;\">\n",
       "      <th></th>\n",
       "      <th>id</th>\n",
       "      <th>created_at</th>\n",
       "      <th>source</th>\n",
       "      <th>possibly_sensitive</th>\n",
       "      <th>author_id</th>\n",
       "      <th>text</th>\n",
       "      <th>person_annotations</th>\n",
       "      <th>place_annotations</th>\n",
       "      <th>product_annotations</th>\n",
       "      <th>organization_annotations</th>\n",
       "      <th>...</th>\n",
       "      <th>like_count</th>\n",
       "      <th>quote_count</th>\n",
       "      <th>author_name</th>\n",
       "      <th>verified</th>\n",
       "      <th>protected</th>\n",
       "      <th>profile_image_url</th>\n",
       "      <th>author_followers_count</th>\n",
       "      <th>animated_gif_count</th>\n",
       "      <th>photo_count</th>\n",
       "      <th>video_count</th>\n",
       "    </tr>\n",
       "  </thead>\n",
       "  <tbody>\n",
       "    <tr>\n",
       "      <th>0</th>\n",
       "      <td>1588682493833551872</td>\n",
       "      <td>2022-11-04 23:59:57</td>\n",
       "      <td>Twitter for iPhone</td>\n",
       "      <td>0</td>\n",
       "      <td>580633644</td>\n",
       "      <td>The business of businesses is climate-change a...</td>\n",
       "      <td>0</td>\n",
       "      <td>0</td>\n",
       "      <td>0</td>\n",
       "      <td>0</td>\n",
       "      <td>...</td>\n",
       "      <td>0</td>\n",
       "      <td>0</td>\n",
       "      <td>Robert Han @RobertHon0911</td>\n",
       "      <td>0</td>\n",
       "      <td>0</td>\n",
       "      <td>1</td>\n",
       "      <td>57</td>\n",
       "      <td>0</td>\n",
       "      <td>0</td>\n",
       "      <td>0</td>\n",
       "    </tr>\n",
       "    <tr>\n",
       "      <th>1</th>\n",
       "      <td>1588682474141339648</td>\n",
       "      <td>2022-11-04 23:59:52</td>\n",
       "      <td>Twitter Web App</td>\n",
       "      <td>1</td>\n",
       "      <td>2711676037</td>\n",
       "      <td>#howtowrite #howtopublish @authoraid \\nA case ...</td>\n",
       "      <td>0</td>\n",
       "      <td>0</td>\n",
       "      <td>0</td>\n",
       "      <td>0</td>\n",
       "      <td>...</td>\n",
       "      <td>1</td>\n",
       "      <td>0</td>\n",
       "      <td>Krishna Koushik @SapiensMyopia</td>\n",
       "      <td>0</td>\n",
       "      <td>0</td>\n",
       "      <td>1</td>\n",
       "      <td>56</td>\n",
       "      <td>0</td>\n",
       "      <td>0</td>\n",
       "      <td>0</td>\n",
       "    </tr>\n",
       "    <tr>\n",
       "      <th>2</th>\n",
       "      <td>1588682395393622016</td>\n",
       "      <td>2022-11-04 23:59:34</td>\n",
       "      <td>Twitter for iPhone</td>\n",
       "      <td>0</td>\n",
       "      <td>1573331383984226304</td>\n",
       "      <td>Hundreds of elephants, zebras die as Kenya wea...</td>\n",
       "      <td>0</td>\n",
       "      <td>0</td>\n",
       "      <td>0</td>\n",
       "      <td>0</td>\n",
       "      <td>...</td>\n",
       "      <td>1</td>\n",
       "      <td>0</td>\n",
       "      <td>Nature Chick @EarthBulletin</td>\n",
       "      <td>0</td>\n",
       "      <td>0</td>\n",
       "      <td>1</td>\n",
       "      <td>553</td>\n",
       "      <td>0</td>\n",
       "      <td>0</td>\n",
       "      <td>0</td>\n",
       "    </tr>\n",
       "    <tr>\n",
       "      <th>3</th>\n",
       "      <td>1588682374103334912</td>\n",
       "      <td>2022-11-04 23:59:28</td>\n",
       "      <td>Twitter for iPhone</td>\n",
       "      <td>0</td>\n",
       "      <td>1674604256</td>\n",
       "      <td>If the free market is the answer to our climat...</td>\n",
       "      <td>0</td>\n",
       "      <td>1</td>\n",
       "      <td>0</td>\n",
       "      <td>0</td>\n",
       "      <td>...</td>\n",
       "      <td>0</td>\n",
       "      <td>0</td>\n",
       "      <td>Nick Yates @nickyatesworld</td>\n",
       "      <td>0</td>\n",
       "      <td>0</td>\n",
       "      <td>1</td>\n",
       "      <td>190</td>\n",
       "      <td>0</td>\n",
       "      <td>0</td>\n",
       "      <td>0</td>\n",
       "    </tr>\n",
       "    <tr>\n",
       "      <th>4</th>\n",
       "      <td>1588682360253739008</td>\n",
       "      <td>2022-11-04 23:59:25</td>\n",
       "      <td>Twitter for iPhone</td>\n",
       "      <td>0</td>\n",
       "      <td>1144336826133442560</td>\n",
       "      <td>Tuned in to the local Seattle fake, corrupt, w...</td>\n",
       "      <td>0</td>\n",
       "      <td>1</td>\n",
       "      <td>0</td>\n",
       "      <td>0</td>\n",
       "      <td>...</td>\n",
       "      <td>3</td>\n",
       "      <td>0</td>\n",
       "      <td>greg vanommeren @GregVanommeren</td>\n",
       "      <td>0</td>\n",
       "      <td>0</td>\n",
       "      <td>1</td>\n",
       "      <td>521</td>\n",
       "      <td>0</td>\n",
       "      <td>0</td>\n",
       "      <td>0</td>\n",
       "    </tr>\n",
       "  </tbody>\n",
       "</table>\n",
       "<p>5 rows × 30 columns</p>\n",
       "</div>"
      ],
      "text/plain": [
       "                    id          created_at              source  \\\n",
       "0  1588682493833551872 2022-11-04 23:59:57  Twitter for iPhone   \n",
       "1  1588682474141339648 2022-11-04 23:59:52     Twitter Web App   \n",
       "2  1588682395393622016 2022-11-04 23:59:34  Twitter for iPhone   \n",
       "3  1588682374103334912 2022-11-04 23:59:28  Twitter for iPhone   \n",
       "4  1588682360253739008 2022-11-04 23:59:25  Twitter for iPhone   \n",
       "\n",
       "   possibly_sensitive            author_id  \\\n",
       "0                   0            580633644   \n",
       "1                   1           2711676037   \n",
       "2                   0  1573331383984226304   \n",
       "3                   0           1674604256   \n",
       "4                   0  1144336826133442560   \n",
       "\n",
       "                                                text  person_annotations  \\\n",
       "0  The business of businesses is climate-change a...                   0   \n",
       "1  #howtowrite #howtopublish @authoraid \\nA case ...                   0   \n",
       "2  Hundreds of elephants, zebras die as Kenya wea...                   0   \n",
       "3  If the free market is the answer to our climat...                   0   \n",
       "4  Tuned in to the local Seattle fake, corrupt, w...                   0   \n",
       "\n",
       "   place_annotations  product_annotations  organization_annotations  ...  \\\n",
       "0                  0                    0                         0  ...   \n",
       "1                  0                    0                         0  ...   \n",
       "2                  0                    0                         0  ...   \n",
       "3                  1                    0                         0  ...   \n",
       "4                  1                    0                         0  ...   \n",
       "\n",
       "   like_count  quote_count                      author_name  verified  \\\n",
       "0           0            0        Robert Han @RobertHon0911         0   \n",
       "1           1            0   Krishna Koushik @SapiensMyopia         0   \n",
       "2           1            0      Nature Chick @EarthBulletin         0   \n",
       "3           0            0       Nick Yates @nickyatesworld         0   \n",
       "4           3            0  greg vanommeren @GregVanommeren         0   \n",
       "\n",
       "   protected  profile_image_url  author_followers_count  animated_gif_count  \\\n",
       "0          0                  1                      57                   0   \n",
       "1          0                  1                      56                   0   \n",
       "2          0                  1                     553                   0   \n",
       "3          0                  1                     190                   0   \n",
       "4          0                  1                     521                   0   \n",
       "\n",
       "   photo_count  video_count  \n",
       "0            0            0  \n",
       "1            0            0  \n",
       "2            0            0  \n",
       "3            0            0  \n",
       "4            0            0  \n",
       "\n",
       "[5 rows x 30 columns]"
      ]
     },
     "execution_count": 2,
     "metadata": {},
     "output_type": "execute_result"
    }
   ],
   "source": [
    "tweets = pd.read_pickle('data/tweets.pkl.bz2', compression='bz2')\n",
    "tweets.head()"
   ]
  },
  {
   "cell_type": "code",
   "execution_count": 3,
   "id": "faedf440",
   "metadata": {},
   "outputs": [
    {
     "name": "stdout",
     "output_type": "stream",
     "text": [
      "<class 'pandas.core.frame.DataFrame'>\n",
      "Int64Index: 7581574 entries, 0 to 7581709\n",
      "Data columns (total 30 columns):\n",
      " #   Column                    Dtype         \n",
      "---  ------                    -----         \n",
      " 0   id                        int64         \n",
      " 1   created_at                datetime64[ns]\n",
      " 2   source                    object        \n",
      " 3   possibly_sensitive        int64         \n",
      " 4   author_id                 int64         \n",
      " 5   text                      object        \n",
      " 6   person_annotations        int64         \n",
      " 7   place_annotations         int64         \n",
      " 8   product_annotations       int64         \n",
      " 9   organization_annotations  int64         \n",
      " 10  other_annotations         int64         \n",
      " 11  urls_count                int64         \n",
      " 12  url_image_count           int64         \n",
      " 13  mentions_count            int64         \n",
      " 14  mentions_verifications    int64         \n",
      " 15  mentions_followers        int64         \n",
      " 16  hashtags                  int64         \n",
      " 17  cashtags                  int64         \n",
      " 18  retweet_count             int64         \n",
      " 19  reply_count               int64         \n",
      " 20  like_count                int64         \n",
      " 21  quote_count               int64         \n",
      " 22  author_name               object        \n",
      " 23  verified                  int64         \n",
      " 24  protected                 int64         \n",
      " 25  profile_image_url         int64         \n",
      " 26  author_followers_count    int64         \n",
      " 27  animated_gif_count        int64         \n",
      " 28  photo_count               int64         \n",
      " 29  video_count               int64         \n",
      "dtypes: datetime64[ns](1), int64(26), object(3)\n",
      "memory usage: 1.8+ GB\n"
     ]
    }
   ],
   "source": [
    "tweets.info()"
   ]
  },
  {
   "cell_type": "markdown",
   "id": "abfe62ee",
   "metadata": {},
   "source": [
    "# Preprocess data"
   ]
  },
  {
   "cell_type": "markdown",
   "id": "7602a6c2",
   "metadata": {},
   "source": [
    "Before tokenize text, remove all the no-alphabetic content and the @, URL, emojis. For Hashtag here we only remove the '#' and treat it as word"
   ]
  },
  {
   "cell_type": "code",
   "execution_count": 6,
   "id": "ac9ba46f",
   "metadata": {},
   "outputs": [
    {
     "data": {
      "text/plain": [
       "array(['The business of businesses is climate-change adaptation https://t.co/q5jeTSdsOT from \\u2066@TheEconomist\\u2069  https://t.co/q5jeTSdsOT Title: The business of businesses is climate-change adaptation Desciption: Big ones are waking up to the fact',\n",
       "       '#howtowrite #howtopublish @authoraid \\nA case study: \\non writing a peer-reviewed article on climate change https://t.co/JYyNE4F8Vo \\n#phdvoice #postdocjobs #AcademicChatter Title: AuthorAID - A case study on writing a peer-reviewed journal article on climate change Desciption: This case study is about writing an original peer-reviewed journal article on climate change research by three authors from Bangladesh. This briefly describes the context of and motivation for the research, and strategies taken to collect data (as a part of research design) and to write the article. Peer-review process is a crucial part of publishing an article ― lessons from this article are describe as well. Open access experience and beyond publication impact of this article are also touched upon.',\n",
       "       \"Hundreds of elephants, zebras die as Kenya weathers drought (from @AP) https://t.co/tHjaqNt7zY Title: Hundreds of elephants, zebras die as Kenya weathers drought Desciption: NAIROBI, Kenya (AP) — Hundreds of animals, including elephants and endangered Grevy’s zebras, have died in Kenyan widlife preserves during East Africa's worst drought in decades, according to a report released Friday.\",\n",
       "       'If the free market is the answer to our climate problems why is the fossil fuel industry in Australia so colossally subsidised? #EnergyCrisis #ClimateCrisis',\n",
       "       'Tuned in to the local Seattle fake, corrupt, woke “news” and the fake meteorologists and fake “newscasters” have gone over the edge, it’s impossible to get an UNbiased weather report without all the drama and fake climate change HOAX narrative…Won’t be watching them anymore'],\n",
       "      dtype=object)"
      ]
     },
     "execution_count": 6,
     "metadata": {},
     "output_type": "execute_result"
    }
   ],
   "source": [
    "tweets['text'].head().values"
   ]
  },
  {
   "cell_type": "code",
   "execution_count": 5,
   "id": "b6e989a7",
   "metadata": {},
   "outputs": [
    {
     "data": {
      "text/plain": [
       "40180      :droplet:  Water scarcity &amp; rising energy ...\n",
       "92294      :droplet:  Water scarcity &amp; rising energy ...\n",
       "120404     VOTE DOUG MASTRIANO\\n#PA GOVENOR\\n@Fighting4PA...\n",
       "139908     1/3 Today, the office of the Chief Public Heal...\n",
       "194635     :droplet:  Water scarcity &amp; rising energy ...\n",
       "                                 ...                        \n",
       "6654655    Ik engenes we've been experiencing this drough...\n",
       "6658907    🇨 🇱 🇮 🇲 🇦 🇹 🇪 🇨 🇭 🇦 🇳 🇬 🇪 \\n\\n20% decline in g...\n",
       "6927097    :high_voltage: #Hydrogen 🇭:keycap_2::\\n\\n:righ...\n",
       "6979392    You work for a billion dollar company. I do wo...\n",
       "7155838    :loudspeaker: Today, Wilton Park and @UKinNige...\n",
       "Name: text, Length: 90, dtype: object"
      ]
     },
     "execution_count": 5,
     "metadata": {},
     "output_type": "execute_result"
    }
   ],
   "source": [
    "# remove emojis\n",
    "\n",
    "def find_emojis(text):\n",
    "        regrex_pattern = re.compile(pattern = \"[\"\n",
    "        u\"\\U0001F600-\\U0001F64F\"  # emoticons\n",
    "        u\"\\U0001F300-\\U0001F5FF\"  # symbols & pictographs\n",
    "        u\"\\U0001F680-\\U0001F6FF\"  # transport & map symbols\n",
    "        u\"\\U0001F1E0-\\U0001F1FF\"  # flags (iOS)\n",
    "                           \"]+\", flags = re.UNICODE)\n",
    "        emojis = regrex_pattern.search(text)\n",
    "        return emojis\n",
    "\n",
    "\n",
    "#tweets.text[~tweets['text'].map(find_emojis).isna()]\n"
   ]
  },
  {
   "cell_type": "code",
   "execution_count": 4,
   "id": "605e4ad2",
   "metadata": {},
   "outputs": [
    {
     "data": {
      "application/vnd.jupyter.widget-view+json": {
       "model_id": "6cb7140888c74a288c2f632d0a71077e",
       "version_major": 2,
       "version_minor": 0
      },
      "text/plain": [
       "  0%|          | 0/7581574 [00:00<?, ?it/s]"
      ]
     },
     "metadata": {},
     "output_type": "display_data"
    }
   ],
   "source": [
    "def clean_tweets(x):\n",
    "    x = x.lower()\n",
    "    x = x.replace('\\n',' ')\n",
    "    # remove @\n",
    "    cleaned_string = re.sub(\"@[A-Za-z0-9_]+\",'', x)\n",
    "    # remove hashtag\n",
    "    cleaned_string = re.sub(\"#\",\"\", cleaned_string)\n",
    "    # remove url\n",
    "    cleaned_string = re.sub(r'(https|http)?:\\/\\/(\\w|\\.|\\/|\\?|\\=|\\&|\\%)*\\b','', str(cleaned_string), flags=re.MULTILINE)\n",
    "    \n",
    "    # remove emojis\n",
    "    regrex_pattern = re.compile(pattern = \"[\"\n",
    "        u\"\\U0001F600-\\U0001F64F\"  # emoticons\n",
    "        u\"\\U0001F300-\\U0001F5FF\"  # symbols & pictographs\n",
    "        u\"\\U0001F680-\\U0001F6FF\"  # transport & map symbols\n",
    "        u\"\\U0001F1E0-\\U0001F1FF\"  # flags (iOS)\n",
    "                           \"]+\", flags = re.UNICODE)\n",
    "    cleaned_string = regrex_pattern.sub(r'',  cleaned_string)\n",
    "        \n",
    "        \n",
    "    cleaned_string = re.sub(r\"[^a-zA-Z0-9?!.,]+\", ' ', cleaned_string)\n",
    "    return cleaned_string\n",
    "\n",
    "tqdm.pandas() \n",
    "text_clean = tweets['text'].progress_map(clean_tweets)"
   ]
  },
  {
   "cell_type": "markdown",
   "id": "e127bd3c",
   "metadata": {},
   "source": [
    "Let's check the result."
   ]
  },
  {
   "cell_type": "code",
   "execution_count": 5,
   "id": "9f354a76",
   "metadata": {},
   "outputs": [
    {
     "data": {
      "text/plain": [
       "array(['the business of businesses is climate change adaptation from title the business of businesses is climate change adaptation desciption big ones are waking up to the fact',\n",
       "       'howtowrite howtopublish a case study on writing a peer reviewed article on climate change phdvoice postdocjobs academicchatter title authoraid a case study on writing a peer reviewed journal article on climate change desciption this case study is about writing an original peer reviewed journal article on climate change research by three authors from bangladesh. this briefly describes the context of and motivation for the research, and strategies taken to collect data as a part of research design and to write the article. peer review process is a crucial part of publishing an article lessons from this article are describe as well. open access experience and beyond publication impact of this article are also touched upon.',\n",
       "       'hundreds of elephants, zebras die as kenya weathers drought from title hundreds of elephants, zebras die as kenya weathers drought desciption nairobi, kenya ap hundreds of animals, including elephants and endangered grevy s zebras, have died in kenyan widlife preserves during east africa s worst drought in decades, according to a report released friday.'],\n",
       "      dtype=object)"
      ]
     },
     "execution_count": 5,
     "metadata": {},
     "output_type": "execute_result"
    }
   ],
   "source": [
    "text_clean.head(3).values"
   ]
  },
  {
   "cell_type": "code",
   "execution_count": 9,
   "id": "bf6ab30a",
   "metadata": {},
   "outputs": [
    {
     "name": "stdout",
     "output_type": "stream",
     "text": [
      "Tokenizing ..\n"
     ]
    },
    {
     "data": {
      "application/vnd.jupyter.widget-view+json": {
       "model_id": "18b99e8d2a18440b8ed62bedce7def4a",
       "version_major": 2,
       "version_minor": 0
      },
      "text/plain": [
       "  0%|          | 0/7581574 [00:00<?, ?it/s]"
      ]
     },
     "metadata": {},
     "output_type": "display_data"
    }
   ],
   "source": [
    "print('Tokenizing...')\n",
    "tokenizer = RegexpTokenizer('[a-zA-Z0-9]\\w+')\n",
    "tokens = [tokenizer.tokenize(tweet) for tweet in tqdm(text_clean)]"
   ]
  },
  {
   "cell_type": "code",
   "execution_count": 10,
   "id": "9e01cdcc",
   "metadata": {},
   "outputs": [
    {
     "name": "stdout",
     "output_type": "stream",
     "text": [
      "['howtowrite', 'howtopublish', 'case', 'study', 'on', 'writing', 'peer', 'reviewed', 'article', 'on', 'climate', 'change', 'phdvoice', 'postdocjobs', 'academicchatter', 'title', 'authoraid', 'case', 'study', 'on', 'writing', 'peer', 'reviewed', 'journal', 'article', 'on', 'climate', 'change', 'desciption', 'this', 'case', 'study', 'is', 'about', 'writing', 'an', 'original', 'peer', 'reviewed', 'journal', 'article', 'on', 'climate', 'change', 'research', 'by', 'three', 'authors', 'from', 'bangladesh', 'this', 'briefly', 'describes', 'the', 'context', 'of', 'and', 'motivation', 'for', 'the', 'research', 'and', 'strategies', 'taken', 'to', 'collect', 'data', 'as', 'part', 'of', 'research', 'design', 'and', 'to', 'write', 'the', 'article', 'peer', 'review', 'process', 'is', 'crucial', 'part', 'of', 'publishing', 'an', 'article', 'lessons', 'from', 'this', 'article', 'are', 'describe', 'as', 'well', 'open', 'access', 'experience', 'and', 'beyond', 'publication', 'impact', 'of', 'this', 'article', 'are', 'also', 'touched', 'upon']\n"
     ]
    }
   ],
   "source": [
    "print(tokens[1])"
   ]
  },
  {
   "cell_type": "markdown",
   "id": "11818a8b",
   "metadata": {},
   "source": [
    "# Word embedding"
   ]
  },
  {
   "cell_type": "markdown",
   "id": "d6d0d669",
   "metadata": {},
   "source": [
    "Let's load the model."
   ]
  },
  {
   "cell_type": "code",
   "execution_count": 11,
   "id": "5ec11f53",
   "metadata": {},
   "outputs": [
    {
     "name": "stderr",
     "output_type": "stream",
     "text": [
      "Warning : `load_model` does not return WordVectorModel or SupervisedModel any more, but a `FastText` object which is very similar.\n"
     ]
    },
    {
     "data": {
      "text/plain": [
       "300"
      ]
     },
     "execution_count": 11,
     "metadata": {},
     "output_type": "execute_result"
    }
   ],
   "source": [
    "# fasttext.util.download_model('en', if_exists='ignore')  # English\n",
    "ft = fasttext.load_model('cc.en.300.bin')\n",
    "ft.get_dimension()"
   ]
  },
  {
   "cell_type": "markdown",
   "id": "067660e6",
   "metadata": {},
   "source": [
    "Let's see example for encoding of the word `hello`."
   ]
  },
  {
   "cell_type": "code",
   "execution_count": 12,
   "id": "d03e9a9e",
   "metadata": {},
   "outputs": [
    {
     "data": {
      "text/plain": [
       "array([ 1.57576188e-01,  4.37820926e-02, -4.51271934e-03,  6.65931404e-02,\n",
       "        7.70346820e-02,  4.85855248e-03,  8.19822028e-03,  6.52402919e-03,\n",
       "        9.25899856e-03,  3.53899002e-02, -2.31395271e-02, -4.91807126e-02,\n",
       "       -8.32642540e-02,  1.56014524e-02,  2.54856616e-01,  3.45423706e-02,\n",
       "       -1.07451361e-02, -7.80188590e-02, -7.08099529e-02,  7.62385577e-02,\n",
       "       -6.09613657e-02,  4.48625796e-02, -7.29744136e-02,  1.30583309e-02,\n",
       "        3.14881057e-02, -3.10055036e-02,  1.66004002e-02,  1.74405202e-02,\n",
       "       -7.35838860e-02,  1.18252613e-01, -1.21330231e-01, -4.09253240e-02,\n",
       "        2.93969568e-02,  4.84445989e-02, -1.33816330e-02, -1.74765270e-02,\n",
       "        7.51308873e-02,  9.97046307e-02, -4.00476977e-02,  4.05735290e-03,\n",
       "       -7.21896589e-02, -4.43356819e-02, -1.22628408e-03,  7.56693557e-02,\n",
       "        3.98401320e-02,  3.22643593e-02,  1.95914153e-02,  4.68016043e-02,\n",
       "       -1.46228177e-02,  1.12967767e-01,  3.15065160e-02, -1.02312110e-01,\n",
       "        1.58124104e-01, -2.76147053e-02, -3.39851156e-02, -1.77006852e-02,\n",
       "       -5.73529862e-04,  1.10789239e-01, -1.64533369e-02, -3.14955460e-03,\n",
       "       -4.22914140e-02,  1.11429848e-01, -5.31049855e-02,  4.91117276e-02,\n",
       "        9.10004079e-02,  6.57141507e-02, -3.71061601e-02,  3.81702930e-02,\n",
       "        7.25173131e-02, -5.31874336e-02,  3.06243524e-02, -5.77391349e-02,\n",
       "       -8.07492957e-02, -9.05582383e-02, -8.05390999e-02, -6.03040010e-02,\n",
       "       -9.73476470e-02,  4.83466834e-02,  6.79628998e-02, -2.63391621e-03,\n",
       "       -8.63242708e-03, -5.09856315e-03,  3.15496624e-02,  6.66525513e-02,\n",
       "        3.12875141e-04, -8.35073516e-02,  4.45498899e-02,  3.60494666e-02,\n",
       "       -2.06746310e-02, -6.20845817e-02, -9.07698199e-02, -4.88502011e-02,\n",
       "        1.32845968e-01,  1.26201622e-02,  4.61448133e-02, -5.53582981e-02,\n",
       "        2.26286706e-03,  4.92154472e-02,  3.35916355e-02,  6.64286166e-02,\n",
       "       -8.92760456e-02, -5.37227653e-02,  1.32202283e-01, -9.05150920e-03,\n",
       "        3.26110516e-03, -4.37462777e-02,  7.51723945e-02, -4.36847992e-02,\n",
       "       -3.93423960e-02,  4.89794314e-02,  8.05674866e-02, -3.93629894e-02,\n",
       "       -7.60222226e-02,  7.16625601e-02, -1.88665651e-02, -4.20744009e-02,\n",
       "        3.32255103e-03, -2.13907361e-02, -1.30127341e-01,  1.37401130e-02,\n",
       "       -5.14834598e-02,  3.86724435e-02,  4.92810011e-02, -6.17840439e-02,\n",
       "       -3.39861885e-02,  3.51758078e-02,  2.59123407e-02, -1.02832042e-01,\n",
       "        6.01336509e-02, -7.14224055e-02, -2.23655030e-02, -1.03390224e-01,\n",
       "       -6.34965971e-02,  1.22897769e-03, -8.42045806e-03, -7.10138381e-02,\n",
       "       -1.38788186e-02,  9.29828510e-02, -7.62190223e-02, -1.79991737e-01,\n",
       "        4.98081669e-02,  5.59808277e-02,  4.36702892e-02,  1.68789774e-02,\n",
       "       -3.51566449e-02,  5.45868883e-03, -1.51729390e-01,  8.31367448e-03,\n",
       "        1.33901536e-01,  1.18388735e-01, -2.54749060e-02, -5.89675866e-02,\n",
       "       -1.15508147e-01, -9.11533982e-02, -3.26217338e-02,  9.58938058e-03,\n",
       "        7.08419904e-02, -1.19613513e-01, -2.44825650e-02,  4.67297807e-02,\n",
       "       -1.05831511e-01,  8.39347020e-03, -3.59367356e-02, -7.11603984e-02,\n",
       "        1.49144500e-01, -9.40826610e-02,  3.87760401e-02,  4.80452590e-02,\n",
       "        2.00118758e-02,  5.70331514e-02, -5.09383976e-02, -1.54985264e-02,\n",
       "       -3.21162455e-02,  6.39992654e-02,  4.45546657e-02, -5.41638955e-02,\n",
       "        2.38869134e-02,  3.99200059e-02,  4.95060384e-02, -8.13021213e-02,\n",
       "        8.67957771e-02,  2.78793890e-02,  2.23497916e-02,  6.88121617e-02,\n",
       "        5.80286458e-02,  1.24275330e-02,  9.18484554e-02,  1.70225650e-02,\n",
       "       -2.20671259e-02, -5.54737449e-02,  3.15260515e-03, -8.95306170e-02,\n",
       "       -5.89935109e-04, -4.80783619e-02, -4.11259457e-02, -3.47180255e-02,\n",
       "       -4.23192009e-02,  1.01052016e-01,  4.34643961e-02,  6.75219819e-02,\n",
       "       -7.32917935e-02,  2.32507251e-02,  3.76763381e-02,  9.02093761e-03,\n",
       "       -8.25045630e-02, -9.67509300e-02,  5.91404364e-03,  2.62256898e-02,\n",
       "       -2.22521871e-02,  7.38612264e-02, -1.88500714e-03, -9.77522582e-02,\n",
       "       -5.37980236e-02, -4.76639681e-02, -1.30426334e-02,  8.38671811e-04,\n",
       "        2.90181581e-02, -3.12499143e-03, -9.28533375e-02,  6.73858598e-02,\n",
       "       -1.85458809e-01,  4.01153788e-02, -5.62882163e-02,  6.18898645e-02,\n",
       "        8.93600285e-02, -6.91142231e-02, -3.22221480e-02, -1.35385573e-01,\n",
       "       -7.45606720e-02,  1.01488158e-01, -2.72288243e-03,  6.07009046e-02,\n",
       "        2.42582299e-02, -1.51890054e-01, -2.93815900e-02, -4.21775132e-03,\n",
       "        5.16449586e-02,  1.85986951e-01, -2.56413780e-02,  8.12229067e-02,\n",
       "        3.16283293e-03, -3.35572846e-02,  3.90090160e-02, -7.37856179e-02,\n",
       "        1.14605539e-01, -7.38329254e-05, -3.69094908e-02,  9.31020677e-02,\n",
       "       -2.92852186e-02,  5.21238521e-02,  7.99705926e-03, -2.93293986e-02,\n",
       "        1.31182939e-01, -8.32130760e-02, -3.40401530e-02,  1.21310152e-01,\n",
       "        3.51337232e-02,  4.17837035e-03,  5.03289811e-02,  2.06086487e-02,\n",
       "        7.90461749e-02, -4.95089963e-02,  2.54211240e-02, -2.95754354e-02,\n",
       "       -2.65460461e-02,  5.42523079e-02, -5.52508160e-02,  1.06864944e-02,\n",
       "       -3.00089158e-02, -6.05286062e-02,  8.54329094e-02, -6.65596053e-02,\n",
       "       -6.78129196e-02,  3.51911336e-02,  6.19770139e-02,  4.80552204e-02,\n",
       "       -3.45021002e-02, -2.87248623e-02, -5.90536669e-02, -5.05724642e-03,\n",
       "       -9.74042267e-02,  1.88945048e-03, -9.06497836e-02,  1.47764226e-02,\n",
       "       -9.77678970e-02,  3.95894758e-02,  2.82567330e-02, -9.28364843e-02,\n",
       "       -8.16594157e-03, -4.56805378e-02,  1.12314738e-01,  8.59746262e-02,\n",
       "       -1.47517517e-01,  8.33301097e-02,  9.94666740e-02, -3.67202386e-02,\n",
       "        6.84743300e-02,  8.06697235e-02, -4.50269580e-02, -3.11294980e-02],\n",
       "      dtype=float32)"
      ]
     },
     "execution_count": 12,
     "metadata": {},
     "output_type": "execute_result"
    }
   ],
   "source": [
    "ft.get_word_vector('hello')"
   ]
  },
  {
   "cell_type": "markdown",
   "id": "200398ab",
   "metadata": {},
   "source": [
    "Now let's create document embedding (average of word-embeddings inside the text)."
   ]
  },
  {
   "cell_type": "code",
   "execution_count": 13,
   "id": "28362b43",
   "metadata": {},
   "outputs": [
    {
     "data": {
      "application/vnd.jupyter.widget-view+json": {
       "model_id": "aa71c13067c44b5d91e304c499a340f4",
       "version_major": 2,
       "version_minor": 0
      },
      "text/plain": [
       "  0%|          | 0/7581574 [00:00<?, ?it/s]"
      ]
     },
     "metadata": {},
     "output_type": "display_data"
    },
    {
     "name": "stderr",
     "output_type": "stream",
     "text": [
      "/home/indy-stg2/mlteam1/miniconda3/envs/python/lib/python3.10/site-packages/numpy/lib/function_base.py:518: RuntimeWarning: Mean of empty slice.\n",
      "  avg = a.mean(axis, **keepdims_kw)\n",
      "/home/indy-stg2/mlteam1/miniconda3/envs/python/lib/python3.10/site-packages/numpy/core/_methods.py:190: RuntimeWarning: invalid value encountered in double_scalars\n",
      "  ret = ret.dtype.type(ret / rcount)\n"
     ]
    }
   ],
   "source": [
    "dic_wv = {}\n",
    "word_out = []\n",
    "all_tweets_emb = []\n",
    "\n",
    "for tweet in tqdm(tokens):\n",
    "    tweet_emb = []\n",
    "    for w in tweet:\n",
    "        try :\n",
    "            emb = ft.get_word_vector(w)\n",
    "            tweet_emb.append(emb)   \n",
    "            dic_wv.update({w : emb})\n",
    "        except: \n",
    "            word_out = word_out.append(w)\n",
    "            continue\n",
    "            \n",
    "    all_tweets_emb.append(np.average(tweet_emb, axis=0))"
   ]
  },
  {
   "cell_type": "markdown",
   "id": "f433a2f4",
   "metadata": {},
   "source": [
    "Let's make sure we have the correct shape for all_tweets_emb."
   ]
  },
  {
   "cell_type": "code",
   "execution_count": 14,
   "id": "fd1d3122",
   "metadata": {},
   "outputs": [
    {
     "name": "stdout",
     "output_type": "stream",
     "text": [
      "Shape: (7581574, 300)\n"
     ]
    }
   ],
   "source": [
    "print(f\"Shape: ({len(all_tweets_emb)}, {len(all_tweets_emb[0])})\")"
   ]
  },
  {
   "cell_type": "code",
   "execution_count": 15,
   "id": "154e3b57",
   "metadata": {},
   "outputs": [],
   "source": [
    "ids = tweets.id\n",
    "ids.to_csv(\"tweets_id_emb.csv\")"
   ]
  },
  {
   "cell_type": "code",
   "execution_count": 16,
   "id": "4b7dbd57",
   "metadata": {},
   "outputs": [
    {
     "data": {
      "text/html": [
       "<div>\n",
       "<style scoped>\n",
       "    .dataframe tbody tr th:only-of-type {\n",
       "        vertical-align: middle;\n",
       "    }\n",
       "\n",
       "    .dataframe tbody tr th {\n",
       "        vertical-align: top;\n",
       "    }\n",
       "\n",
       "    .dataframe thead th {\n",
       "        text-align: right;\n",
       "    }\n",
       "</style>\n",
       "<table border=\"1\" class=\"dataframe\">\n",
       "  <thead>\n",
       "    <tr style=\"text-align: right;\">\n",
       "      <th></th>\n",
       "      <th>id</th>\n",
       "      <th>embedding</th>\n",
       "    </tr>\n",
       "  </thead>\n",
       "  <tbody>\n",
       "    <tr>\n",
       "      <th>0</th>\n",
       "      <td>1588682493833551872</td>\n",
       "      <td>[-0.046264533, -0.05307058, 0.0045004673, 0.02...</td>\n",
       "    </tr>\n",
       "    <tr>\n",
       "      <th>1</th>\n",
       "      <td>1588682474141339648</td>\n",
       "      <td>[-0.013356083, 0.036624912, 0.021634554, 0.034...</td>\n",
       "    </tr>\n",
       "    <tr>\n",
       "      <th>2</th>\n",
       "      <td>1588682395393622016</td>\n",
       "      <td>[0.0073349774, -0.020072784, -0.027865734, 0.0...</td>\n",
       "    </tr>\n",
       "    <tr>\n",
       "      <th>3</th>\n",
       "      <td>1588682374103334912</td>\n",
       "      <td>[-0.041744243, -0.034809932, -0.011789519, 0.0...</td>\n",
       "    </tr>\n",
       "    <tr>\n",
       "      <th>4</th>\n",
       "      <td>1588682360253739008</td>\n",
       "      <td>[-0.026468642, -0.016022408, 0.024429057, 0.05...</td>\n",
       "    </tr>\n",
       "  </tbody>\n",
       "</table>\n",
       "</div>"
      ],
      "text/plain": [
       "                    id                                          embedding\n",
       "0  1588682493833551872  [-0.046264533, -0.05307058, 0.0045004673, 0.02...\n",
       "1  1588682474141339648  [-0.013356083, 0.036624912, 0.021634554, 0.034...\n",
       "2  1588682395393622016  [0.0073349774, -0.020072784, -0.027865734, 0.0...\n",
       "3  1588682374103334912  [-0.041744243, -0.034809932, -0.011789519, 0.0...\n",
       "4  1588682360253739008  [-0.026468642, -0.016022408, 0.024429057, 0.05..."
      ]
     },
     "execution_count": 16,
     "metadata": {},
     "output_type": "execute_result"
    }
   ],
   "source": [
    "tweets['embedding'] = all_tweets_emb\n",
    "tweets_save = tweets[['id','embedding']]\n",
    "tweets_save.head()"
   ]
  },
  {
   "cell_type": "code",
   "execution_count": 17,
   "id": "5eefed45",
   "metadata": {},
   "outputs": [],
   "source": [
    "tweets_save.to_pickle('tweets_embd.pkl.bz2',compression='bz2')"
   ]
  },
  {
   "cell_type": "code",
   "execution_count": 18,
   "id": "8f4c0af0",
   "metadata": {},
   "outputs": [
    {
     "name": "stdout",
     "output_type": "stream",
     "text": [
      "<class 'pandas.core.frame.DataFrame'>\n",
      "Int64Index: 7581574 entries, 0 to 7581709\n",
      "Data columns (total 2 columns):\n",
      " #   Column     Dtype \n",
      "---  ------     ----- \n",
      " 0   id         int64 \n",
      " 1   embedding  object\n",
      "dtypes: int64(1), object(1)\n",
      "memory usage: 173.5+ MB\n"
     ]
    }
   ],
   "source": [
    "tweets_save.info() "
   ]
  },
  {
   "cell_type": "markdown",
   "id": "df806f32",
   "metadata": {},
   "source": [
    "# Add embeddings to pairs dataset"
   ]
  },
  {
   "cell_type": "code",
   "execution_count": 3,
   "id": "5f69b07c",
   "metadata": {},
   "outputs": [
    {
     "name": "stdout",
     "output_type": "stream",
     "text": [
      "<class 'pandas.core.frame.DataFrame'>\n",
      "Int64Index: 7581574 entries, 0 to 7581709\n",
      "Data columns (total 2 columns):\n",
      " #   Column     Dtype \n",
      "---  ------     ----- \n",
      " 0   id         int64 \n",
      " 1   embedding  object\n",
      "dtypes: int64(1), object(1)\n",
      "memory usage: 173.5+ MB\n"
     ]
    }
   ],
   "source": [
    "tweets_save = pd.read_pickle('tweets_embd.pkl.bz2',compression='bz2')\n",
    "tweets_save.info() "
   ]
  },
  {
   "cell_type": "code",
   "execution_count": 5,
   "id": "0b32219e",
   "metadata": {},
   "outputs": [
    {
     "data": {
      "text/html": [
       "<div>\n",
       "<style scoped>\n",
       "    .dataframe tbody tr th:only-of-type {\n",
       "        vertical-align: middle;\n",
       "    }\n",
       "\n",
       "    .dataframe tbody tr th {\n",
       "        vertical-align: top;\n",
       "    }\n",
       "\n",
       "    .dataframe thead th {\n",
       "        text-align: right;\n",
       "    }\n",
       "</style>\n",
       "<table border=\"1\" class=\"dataframe\">\n",
       "  <thead>\n",
       "    <tr style=\"text-align: right;\">\n",
       "      <th></th>\n",
       "      <th>author</th>\n",
       "      <th>author_followers_count</th>\n",
       "      <th>verified</th>\n",
       "      <th>tweet_id1</th>\n",
       "      <th>urls_count1</th>\n",
       "      <th>url_image_count1</th>\n",
       "      <th>hashtags_count1</th>\n",
       "      <th>animated_gif_count1</th>\n",
       "      <th>photo_count1</th>\n",
       "      <th>video_count1</th>\n",
       "      <th>tweet_id2</th>\n",
       "      <th>urls_count2</th>\n",
       "      <th>url_image_count2</th>\n",
       "      <th>hashtags_count2</th>\n",
       "      <th>animated_gif_count2</th>\n",
       "      <th>photo_count2</th>\n",
       "      <th>video_count2</th>\n",
       "      <th>max_date</th>\n",
       "      <th>min_date</th>\n",
       "      <th>winner</th>\n",
       "    </tr>\n",
       "  </thead>\n",
       "  <tbody>\n",
       "    <tr>\n",
       "      <th>17416113</th>\n",
       "      <td>1172657864118194176</td>\n",
       "      <td>4431</td>\n",
       "      <td>0</td>\n",
       "      <td>1344795571865989120</td>\n",
       "      <td>2</td>\n",
       "      <td>0</td>\n",
       "      <td>0</td>\n",
       "      <td>0</td>\n",
       "      <td>1</td>\n",
       "      <td>0</td>\n",
       "      <td>1344800219972726784</td>\n",
       "      <td>2</td>\n",
       "      <td>0</td>\n",
       "      <td>0</td>\n",
       "      <td>1</td>\n",
       "      <td>0</td>\n",
       "      <td>0</td>\n",
       "      <td>2021-01-01 00:18:52</td>\n",
       "      <td>2021-01-01 00:00:24</td>\n",
       "      <td>0</td>\n",
       "    </tr>\n",
       "    <tr>\n",
       "      <th>17416112</th>\n",
       "      <td>1172657864118194176</td>\n",
       "      <td>4431</td>\n",
       "      <td>0</td>\n",
       "      <td>1344803663647272960</td>\n",
       "      <td>2</td>\n",
       "      <td>0</td>\n",
       "      <td>0</td>\n",
       "      <td>0</td>\n",
       "      <td>1</td>\n",
       "      <td>0</td>\n",
       "      <td>1344795571865989120</td>\n",
       "      <td>2</td>\n",
       "      <td>0</td>\n",
       "      <td>0</td>\n",
       "      <td>0</td>\n",
       "      <td>1</td>\n",
       "      <td>0</td>\n",
       "      <td>2021-01-01 00:32:33</td>\n",
       "      <td>2021-01-01 00:00:24</td>\n",
       "      <td>0</td>\n",
       "    </tr>\n",
       "    <tr>\n",
       "      <th>17416111</th>\n",
       "      <td>1172657864118194176</td>\n",
       "      <td>4431</td>\n",
       "      <td>0</td>\n",
       "      <td>1344803663647272960</td>\n",
       "      <td>2</td>\n",
       "      <td>0</td>\n",
       "      <td>0</td>\n",
       "      <td>0</td>\n",
       "      <td>1</td>\n",
       "      <td>0</td>\n",
       "      <td>1344800219972726784</td>\n",
       "      <td>2</td>\n",
       "      <td>0</td>\n",
       "      <td>0</td>\n",
       "      <td>1</td>\n",
       "      <td>0</td>\n",
       "      <td>0</td>\n",
       "      <td>2021-01-01 00:32:33</td>\n",
       "      <td>2021-01-01 00:18:52</td>\n",
       "      <td>0</td>\n",
       "    </tr>\n",
       "    <tr>\n",
       "      <th>21264726</th>\n",
       "      <td>1337163419326279680</td>\n",
       "      <td>193</td>\n",
       "      <td>0</td>\n",
       "      <td>1344805720143888384</td>\n",
       "      <td>1</td>\n",
       "      <td>0</td>\n",
       "      <td>0</td>\n",
       "      <td>0</td>\n",
       "      <td>1</td>\n",
       "      <td>0</td>\n",
       "      <td>1344804446698672128</td>\n",
       "      <td>1</td>\n",
       "      <td>0</td>\n",
       "      <td>0</td>\n",
       "      <td>0</td>\n",
       "      <td>1</td>\n",
       "      <td>0</td>\n",
       "      <td>2021-01-01 00:40:43</td>\n",
       "      <td>2021-01-01 00:35:40</td>\n",
       "      <td>1</td>\n",
       "    </tr>\n",
       "    <tr>\n",
       "      <th>3279199</th>\n",
       "      <td>20207761</td>\n",
       "      <td>16032</td>\n",
       "      <td>0</td>\n",
       "      <td>1344806765590884352</td>\n",
       "      <td>2</td>\n",
       "      <td>0</td>\n",
       "      <td>8</td>\n",
       "      <td>0</td>\n",
       "      <td>1</td>\n",
       "      <td>0</td>\n",
       "      <td>1344806944675131392</td>\n",
       "      <td>2</td>\n",
       "      <td>0</td>\n",
       "      <td>8</td>\n",
       "      <td>0</td>\n",
       "      <td>1</td>\n",
       "      <td>0</td>\n",
       "      <td>2021-01-01 00:45:35</td>\n",
       "      <td>2021-01-01 00:44:52</td>\n",
       "      <td>0</td>\n",
       "    </tr>\n",
       "  </tbody>\n",
       "</table>\n",
       "</div>"
      ],
      "text/plain": [
       "                       author  author_followers_count  verified  \\\n",
       "17416113  1172657864118194176                    4431         0   \n",
       "17416112  1172657864118194176                    4431         0   \n",
       "17416111  1172657864118194176                    4431         0   \n",
       "21264726  1337163419326279680                     193         0   \n",
       "3279199              20207761                   16032         0   \n",
       "\n",
       "                    tweet_id1  urls_count1  url_image_count1  hashtags_count1  \\\n",
       "17416113  1344795571865989120            2                 0                0   \n",
       "17416112  1344803663647272960            2                 0                0   \n",
       "17416111  1344803663647272960            2                 0                0   \n",
       "21264726  1344805720143888384            1                 0                0   \n",
       "3279199   1344806765590884352            2                 0                8   \n",
       "\n",
       "          animated_gif_count1  photo_count1  video_count1  \\\n",
       "17416113                    0             1             0   \n",
       "17416112                    0             1             0   \n",
       "17416111                    0             1             0   \n",
       "21264726                    0             1             0   \n",
       "3279199                     0             1             0   \n",
       "\n",
       "                    tweet_id2  urls_count2  url_image_count2  hashtags_count2  \\\n",
       "17416113  1344800219972726784            2                 0                0   \n",
       "17416112  1344795571865989120            2                 0                0   \n",
       "17416111  1344800219972726784            2                 0                0   \n",
       "21264726  1344804446698672128            1                 0                0   \n",
       "3279199   1344806944675131392            2                 0                8   \n",
       "\n",
       "          animated_gif_count2  photo_count2  video_count2            max_date  \\\n",
       "17416113                    1             0             0 2021-01-01 00:18:52   \n",
       "17416112                    0             1             0 2021-01-01 00:32:33   \n",
       "17416111                    1             0             0 2021-01-01 00:32:33   \n",
       "21264726                    0             1             0 2021-01-01 00:40:43   \n",
       "3279199                     0             1             0 2021-01-01 00:45:35   \n",
       "\n",
       "                    min_date  winner  \n",
       "17416113 2021-01-01 00:00:24       0  \n",
       "17416112 2021-01-01 00:00:24       0  \n",
       "17416111 2021-01-01 00:18:52       0  \n",
       "21264726 2021-01-01 00:35:40       1  \n",
       "3279199  2021-01-01 00:44:52       0  "
      ]
     },
     "execution_count": 5,
     "metadata": {},
     "output_type": "execute_result"
    }
   ],
   "source": [
    "pairs = pd.read_pickle('data/pairs.pkl.bz2',compression='bz2')\n",
    "pairs.head()"
   ]
  },
  {
   "cell_type": "code",
   "execution_count": 6,
   "id": "ec7a72f3",
   "metadata": {},
   "outputs": [
    {
     "name": "stdout",
     "output_type": "stream",
     "text": [
      "<class 'pandas.core.frame.DataFrame'>\n",
      "Int64Index: 23753614 entries, 17416113 to 23748673\n",
      "Data columns (total 20 columns):\n",
      " #   Column                  Dtype         \n",
      "---  ------                  -----         \n",
      " 0   author                  int64         \n",
      " 1   author_followers_count  int64         \n",
      " 2   verified                int64         \n",
      " 3   tweet_id1               int64         \n",
      " 4   urls_count1             int64         \n",
      " 5   url_image_count1        int64         \n",
      " 6   hashtags_count1         int64         \n",
      " 7   animated_gif_count1     int64         \n",
      " 8   photo_count1            int64         \n",
      " 9   video_count1            int64         \n",
      " 10  tweet_id2               int64         \n",
      " 11  urls_count2             int64         \n",
      " 12  url_image_count2        int64         \n",
      " 13  hashtags_count2         int64         \n",
      " 14  animated_gif_count2     int64         \n",
      " 15  photo_count2            int64         \n",
      " 16  video_count2            int64         \n",
      " 17  max_date                datetime64[ns]\n",
      " 18  min_date                datetime64[ns]\n",
      " 19  winner                  int64         \n",
      "dtypes: datetime64[ns](2), int64(18)\n",
      "memory usage: 3.7 GB\n"
     ]
    }
   ],
   "source": [
    "pairs.info()"
   ]
  },
  {
   "cell_type": "code",
   "execution_count": 7,
   "id": "0b751eef",
   "metadata": {},
   "outputs": [
    {
     "name": "stdout",
     "output_type": "stream",
     "text": [
      "<class 'pandas.core.frame.DataFrame'>\n",
      "Int64Index: 23753614 entries, 17416113 to 23748673\n",
      "Data columns (total 18 columns):\n",
      " #   Column               Dtype         \n",
      "---  ------               -----         \n",
      " 0   author               int64         \n",
      " 1   tweet_id1            int64         \n",
      " 2   urls_count1          int64         \n",
      " 3   url_image_count1     int64         \n",
      " 4   hashtags_count1      int64         \n",
      " 5   animated_gif_count1  int64         \n",
      " 6   photo_count1         int64         \n",
      " 7   video_count1         int64         \n",
      " 8   tweet_id2            int64         \n",
      " 9   urls_count2          int64         \n",
      " 10  url_image_count2     int64         \n",
      " 11  hashtags_count2      int64         \n",
      " 12  animated_gif_count2  int64         \n",
      " 13  photo_count2         int64         \n",
      " 14  video_count2         int64         \n",
      " 15  max_date             datetime64[ns]\n",
      " 16  min_date             datetime64[ns]\n",
      " 17  winner               int64         \n",
      "dtypes: datetime64[ns](2), int64(16)\n",
      "memory usage: 3.4 GB\n"
     ]
    }
   ],
   "source": [
    "# drop columns we don't need for the BT model\n",
    "pairs.drop(['author_followers_count', 'verified'], axis=1, inplace=True)\n",
    "pairs.info()"
   ]
  },
  {
   "cell_type": "markdown",
   "id": "0c19949e",
   "metadata": {},
   "source": [
    "Let's merge `url_image_count` and `photo_count` into one feature `image_count`."
   ]
  },
  {
   "cell_type": "code",
   "execution_count": 8,
   "id": "d3dd97dc",
   "metadata": {},
   "outputs": [
    {
     "data": {
      "text/html": [
       "<div>\n",
       "<style scoped>\n",
       "    .dataframe tbody tr th:only-of-type {\n",
       "        vertical-align: middle;\n",
       "    }\n",
       "\n",
       "    .dataframe tbody tr th {\n",
       "        vertical-align: top;\n",
       "    }\n",
       "\n",
       "    .dataframe thead th {\n",
       "        text-align: right;\n",
       "    }\n",
       "</style>\n",
       "<table border=\"1\" class=\"dataframe\">\n",
       "  <thead>\n",
       "    <tr style=\"text-align: right;\">\n",
       "      <th></th>\n",
       "      <th>author</th>\n",
       "      <th>tweet_id1</th>\n",
       "      <th>urls_count1</th>\n",
       "      <th>hashtags_count1</th>\n",
       "      <th>animated_gif_count1</th>\n",
       "      <th>video_count1</th>\n",
       "      <th>tweet_id2</th>\n",
       "      <th>urls_count2</th>\n",
       "      <th>hashtags_count2</th>\n",
       "      <th>animated_gif_count2</th>\n",
       "      <th>video_count2</th>\n",
       "      <th>max_date</th>\n",
       "      <th>min_date</th>\n",
       "      <th>winner</th>\n",
       "      <th>image1</th>\n",
       "      <th>image2</th>\n",
       "    </tr>\n",
       "  </thead>\n",
       "  <tbody>\n",
       "    <tr>\n",
       "      <th>17416113</th>\n",
       "      <td>1172657864118194176</td>\n",
       "      <td>1344795571865989120</td>\n",
       "      <td>2</td>\n",
       "      <td>0</td>\n",
       "      <td>0</td>\n",
       "      <td>0</td>\n",
       "      <td>1344800219972726784</td>\n",
       "      <td>2</td>\n",
       "      <td>0</td>\n",
       "      <td>1</td>\n",
       "      <td>0</td>\n",
       "      <td>2021-01-01 00:18:52</td>\n",
       "      <td>2021-01-01 00:00:24</td>\n",
       "      <td>0</td>\n",
       "      <td>1</td>\n",
       "      <td>0</td>\n",
       "    </tr>\n",
       "    <tr>\n",
       "      <th>17416112</th>\n",
       "      <td>1172657864118194176</td>\n",
       "      <td>1344803663647272960</td>\n",
       "      <td>2</td>\n",
       "      <td>0</td>\n",
       "      <td>0</td>\n",
       "      <td>0</td>\n",
       "      <td>1344795571865989120</td>\n",
       "      <td>2</td>\n",
       "      <td>0</td>\n",
       "      <td>0</td>\n",
       "      <td>0</td>\n",
       "      <td>2021-01-01 00:32:33</td>\n",
       "      <td>2021-01-01 00:00:24</td>\n",
       "      <td>0</td>\n",
       "      <td>1</td>\n",
       "      <td>1</td>\n",
       "    </tr>\n",
       "    <tr>\n",
       "      <th>17416111</th>\n",
       "      <td>1172657864118194176</td>\n",
       "      <td>1344803663647272960</td>\n",
       "      <td>2</td>\n",
       "      <td>0</td>\n",
       "      <td>0</td>\n",
       "      <td>0</td>\n",
       "      <td>1344800219972726784</td>\n",
       "      <td>2</td>\n",
       "      <td>0</td>\n",
       "      <td>1</td>\n",
       "      <td>0</td>\n",
       "      <td>2021-01-01 00:32:33</td>\n",
       "      <td>2021-01-01 00:18:52</td>\n",
       "      <td>0</td>\n",
       "      <td>1</td>\n",
       "      <td>0</td>\n",
       "    </tr>\n",
       "    <tr>\n",
       "      <th>21264726</th>\n",
       "      <td>1337163419326279680</td>\n",
       "      <td>1344805720143888384</td>\n",
       "      <td>1</td>\n",
       "      <td>0</td>\n",
       "      <td>0</td>\n",
       "      <td>0</td>\n",
       "      <td>1344804446698672128</td>\n",
       "      <td>1</td>\n",
       "      <td>0</td>\n",
       "      <td>0</td>\n",
       "      <td>0</td>\n",
       "      <td>2021-01-01 00:40:43</td>\n",
       "      <td>2021-01-01 00:35:40</td>\n",
       "      <td>1</td>\n",
       "      <td>1</td>\n",
       "      <td>1</td>\n",
       "    </tr>\n",
       "    <tr>\n",
       "      <th>3279199</th>\n",
       "      <td>20207761</td>\n",
       "      <td>1344806765590884352</td>\n",
       "      <td>2</td>\n",
       "      <td>8</td>\n",
       "      <td>0</td>\n",
       "      <td>0</td>\n",
       "      <td>1344806944675131392</td>\n",
       "      <td>2</td>\n",
       "      <td>8</td>\n",
       "      <td>0</td>\n",
       "      <td>0</td>\n",
       "      <td>2021-01-01 00:45:35</td>\n",
       "      <td>2021-01-01 00:44:52</td>\n",
       "      <td>0</td>\n",
       "      <td>1</td>\n",
       "      <td>1</td>\n",
       "    </tr>\n",
       "  </tbody>\n",
       "</table>\n",
       "</div>"
      ],
      "text/plain": [
       "                       author            tweet_id1  urls_count1  \\\n",
       "17416113  1172657864118194176  1344795571865989120            2   \n",
       "17416112  1172657864118194176  1344803663647272960            2   \n",
       "17416111  1172657864118194176  1344803663647272960            2   \n",
       "21264726  1337163419326279680  1344805720143888384            1   \n",
       "3279199              20207761  1344806765590884352            2   \n",
       "\n",
       "          hashtags_count1  animated_gif_count1  video_count1  \\\n",
       "17416113                0                    0             0   \n",
       "17416112                0                    0             0   \n",
       "17416111                0                    0             0   \n",
       "21264726                0                    0             0   \n",
       "3279199                 8                    0             0   \n",
       "\n",
       "                    tweet_id2  urls_count2  hashtags_count2  \\\n",
       "17416113  1344800219972726784            2                0   \n",
       "17416112  1344795571865989120            2                0   \n",
       "17416111  1344800219972726784            2                0   \n",
       "21264726  1344804446698672128            1                0   \n",
       "3279199   1344806944675131392            2                8   \n",
       "\n",
       "          animated_gif_count2  video_count2            max_date  \\\n",
       "17416113                    1             0 2021-01-01 00:18:52   \n",
       "17416112                    0             0 2021-01-01 00:32:33   \n",
       "17416111                    1             0 2021-01-01 00:32:33   \n",
       "21264726                    0             0 2021-01-01 00:40:43   \n",
       "3279199                     0             0 2021-01-01 00:45:35   \n",
       "\n",
       "                    min_date  winner  image1  image2  \n",
       "17416113 2021-01-01 00:00:24       0       1       0  \n",
       "17416112 2021-01-01 00:00:24       0       1       1  \n",
       "17416111 2021-01-01 00:18:52       0       1       0  \n",
       "21264726 2021-01-01 00:35:40       1       1       1  \n",
       "3279199  2021-01-01 00:44:52       0       1       1  "
      ]
     },
     "execution_count": 8,
     "metadata": {},
     "output_type": "execute_result"
    }
   ],
   "source": [
    "pairs['image1'] = pairs['url_image_count1'] + pairs['photo_count1']\n",
    "pairs['image2'] = pairs['url_image_count2'] + pairs['photo_count2']\n",
    "pairs.drop(['url_image_count1', 'url_image_count2', 'photo_count1', 'photo_count2'], axis=1, inplace=True)\n",
    "pairs.head()"
   ]
  },
  {
   "cell_type": "markdown",
   "id": "4f5fe406",
   "metadata": {},
   "source": [
    "Let's make just flagged variables from count variables and then substract their values for corresponding features for each pair."
   ]
  },
  {
   "cell_type": "code",
   "execution_count": 9,
   "id": "19612e09",
   "metadata": {},
   "outputs": [
    {
     "data": {
      "text/plain": [
       "Index(['author', 'tweet_id1', 'urls_count1', 'hashtags_count1',\n",
       "       'animated_gif_count1', 'video_count1', 'tweet_id2', 'urls_count2',\n",
       "       'hashtags_count2', 'animated_gif_count2', 'video_count2', 'max_date',\n",
       "       'min_date', 'winner', 'image1', 'image2'],\n",
       "      dtype='object')"
      ]
     },
     "execution_count": 9,
     "metadata": {},
     "output_type": "execute_result"
    }
   ],
   "source": [
    "pairs.columns"
   ]
  },
  {
   "cell_type": "code",
   "execution_count": 10,
   "id": "1d4a68f2",
   "metadata": {},
   "outputs": [
    {
     "data": {
      "text/html": [
       "<div>\n",
       "<style scoped>\n",
       "    .dataframe tbody tr th:only-of-type {\n",
       "        vertical-align: middle;\n",
       "    }\n",
       "\n",
       "    .dataframe tbody tr th {\n",
       "        vertical-align: top;\n",
       "    }\n",
       "\n",
       "    .dataframe thead th {\n",
       "        text-align: right;\n",
       "    }\n",
       "</style>\n",
       "<table border=\"1\" class=\"dataframe\">\n",
       "  <thead>\n",
       "    <tr style=\"text-align: right;\">\n",
       "      <th></th>\n",
       "      <th>author</th>\n",
       "      <th>tweet_id1</th>\n",
       "      <th>urls_count1</th>\n",
       "      <th>hashtags_count1</th>\n",
       "      <th>animated_gif_count1</th>\n",
       "      <th>video_count1</th>\n",
       "      <th>tweet_id2</th>\n",
       "      <th>urls_count2</th>\n",
       "      <th>hashtags_count2</th>\n",
       "      <th>animated_gif_count2</th>\n",
       "      <th>video_count2</th>\n",
       "      <th>max_date</th>\n",
       "      <th>min_date</th>\n",
       "      <th>winner</th>\n",
       "      <th>image1</th>\n",
       "      <th>image2</th>\n",
       "    </tr>\n",
       "  </thead>\n",
       "  <tbody>\n",
       "    <tr>\n",
       "      <th>17416113</th>\n",
       "      <td>1172657864118194176</td>\n",
       "      <td>1344795571865989120</td>\n",
       "      <td>1</td>\n",
       "      <td>0</td>\n",
       "      <td>0</td>\n",
       "      <td>0</td>\n",
       "      <td>1344800219972726784</td>\n",
       "      <td>1</td>\n",
       "      <td>0</td>\n",
       "      <td>1</td>\n",
       "      <td>0</td>\n",
       "      <td>2021-01-01 00:18:52</td>\n",
       "      <td>2021-01-01 00:00:24</td>\n",
       "      <td>0</td>\n",
       "      <td>1</td>\n",
       "      <td>0</td>\n",
       "    </tr>\n",
       "    <tr>\n",
       "      <th>17416112</th>\n",
       "      <td>1172657864118194176</td>\n",
       "      <td>1344803663647272960</td>\n",
       "      <td>1</td>\n",
       "      <td>0</td>\n",
       "      <td>0</td>\n",
       "      <td>0</td>\n",
       "      <td>1344795571865989120</td>\n",
       "      <td>1</td>\n",
       "      <td>0</td>\n",
       "      <td>0</td>\n",
       "      <td>0</td>\n",
       "      <td>2021-01-01 00:32:33</td>\n",
       "      <td>2021-01-01 00:00:24</td>\n",
       "      <td>0</td>\n",
       "      <td>1</td>\n",
       "      <td>1</td>\n",
       "    </tr>\n",
       "    <tr>\n",
       "      <th>17416111</th>\n",
       "      <td>1172657864118194176</td>\n",
       "      <td>1344803663647272960</td>\n",
       "      <td>1</td>\n",
       "      <td>0</td>\n",
       "      <td>0</td>\n",
       "      <td>0</td>\n",
       "      <td>1344800219972726784</td>\n",
       "      <td>1</td>\n",
       "      <td>0</td>\n",
       "      <td>1</td>\n",
       "      <td>0</td>\n",
       "      <td>2021-01-01 00:32:33</td>\n",
       "      <td>2021-01-01 00:18:52</td>\n",
       "      <td>0</td>\n",
       "      <td>1</td>\n",
       "      <td>0</td>\n",
       "    </tr>\n",
       "    <tr>\n",
       "      <th>21264726</th>\n",
       "      <td>1337163419326279680</td>\n",
       "      <td>1344805720143888384</td>\n",
       "      <td>1</td>\n",
       "      <td>0</td>\n",
       "      <td>0</td>\n",
       "      <td>0</td>\n",
       "      <td>1344804446698672128</td>\n",
       "      <td>1</td>\n",
       "      <td>0</td>\n",
       "      <td>0</td>\n",
       "      <td>0</td>\n",
       "      <td>2021-01-01 00:40:43</td>\n",
       "      <td>2021-01-01 00:35:40</td>\n",
       "      <td>1</td>\n",
       "      <td>1</td>\n",
       "      <td>1</td>\n",
       "    </tr>\n",
       "    <tr>\n",
       "      <th>3279199</th>\n",
       "      <td>20207761</td>\n",
       "      <td>1344806765590884352</td>\n",
       "      <td>1</td>\n",
       "      <td>1</td>\n",
       "      <td>0</td>\n",
       "      <td>0</td>\n",
       "      <td>1344806944675131392</td>\n",
       "      <td>1</td>\n",
       "      <td>1</td>\n",
       "      <td>0</td>\n",
       "      <td>0</td>\n",
       "      <td>2021-01-01 00:45:35</td>\n",
       "      <td>2021-01-01 00:44:52</td>\n",
       "      <td>0</td>\n",
       "      <td>1</td>\n",
       "      <td>1</td>\n",
       "    </tr>\n",
       "  </tbody>\n",
       "</table>\n",
       "</div>"
      ],
      "text/plain": [
       "                       author            tweet_id1  urls_count1  \\\n",
       "17416113  1172657864118194176  1344795571865989120            1   \n",
       "17416112  1172657864118194176  1344803663647272960            1   \n",
       "17416111  1172657864118194176  1344803663647272960            1   \n",
       "21264726  1337163419326279680  1344805720143888384            1   \n",
       "3279199              20207761  1344806765590884352            1   \n",
       "\n",
       "          hashtags_count1  animated_gif_count1  video_count1  \\\n",
       "17416113                0                    0             0   \n",
       "17416112                0                    0             0   \n",
       "17416111                0                    0             0   \n",
       "21264726                0                    0             0   \n",
       "3279199                 1                    0             0   \n",
       "\n",
       "                    tweet_id2  urls_count2  hashtags_count2  \\\n",
       "17416113  1344800219972726784            1                0   \n",
       "17416112  1344795571865989120            1                0   \n",
       "17416111  1344800219972726784            1                0   \n",
       "21264726  1344804446698672128            1                0   \n",
       "3279199   1344806944675131392            1                1   \n",
       "\n",
       "          animated_gif_count2  video_count2            max_date  \\\n",
       "17416113                    1             0 2021-01-01 00:18:52   \n",
       "17416112                    0             0 2021-01-01 00:32:33   \n",
       "17416111                    1             0 2021-01-01 00:32:33   \n",
       "21264726                    0             0 2021-01-01 00:40:43   \n",
       "3279199                     0             0 2021-01-01 00:45:35   \n",
       "\n",
       "                    min_date  winner  image1  image2  \n",
       "17416113 2021-01-01 00:00:24       0       1       0  \n",
       "17416112 2021-01-01 00:00:24       0       1       1  \n",
       "17416111 2021-01-01 00:18:52       0       1       0  \n",
       "21264726 2021-01-01 00:35:40       1       1       1  \n",
       "3279199  2021-01-01 00:44:52       0       1       1  "
      ]
     },
     "execution_count": 10,
     "metadata": {},
     "output_type": "execute_result"
    }
   ],
   "source": [
    "for column in ['urls_count1', 'video_count1', 'hashtags_count1', 'image1', 'animated_gif_count1',\n",
    "               'urls_count2', 'video_count2', 'hashtags_count2', 'image2', 'animated_gif_count2']:\n",
    "    pairs[column] = pairs[column].astype(bool).astype(int)\n",
    "    \n",
    "pairs.head()"
   ]
  },
  {
   "cell_type": "code",
   "execution_count": 11,
   "id": "37e296c0",
   "metadata": {},
   "outputs": [
    {
     "data": {
      "text/html": [
       "<div>\n",
       "<style scoped>\n",
       "    .dataframe tbody tr th:only-of-type {\n",
       "        vertical-align: middle;\n",
       "    }\n",
       "\n",
       "    .dataframe tbody tr th {\n",
       "        vertical-align: top;\n",
       "    }\n",
       "\n",
       "    .dataframe thead th {\n",
       "        text-align: right;\n",
       "    }\n",
       "</style>\n",
       "<table border=\"1\" class=\"dataframe\">\n",
       "  <thead>\n",
       "    <tr style=\"text-align: right;\">\n",
       "      <th></th>\n",
       "      <th>author</th>\n",
       "      <th>tweet_id1</th>\n",
       "      <th>tweet_id2</th>\n",
       "      <th>max_date</th>\n",
       "      <th>min_date</th>\n",
       "      <th>winner</th>\n",
       "      <th>urls</th>\n",
       "      <th>video</th>\n",
       "      <th>hashtags</th>\n",
       "      <th>animated_gif</th>\n",
       "      <th>image</th>\n",
       "    </tr>\n",
       "  </thead>\n",
       "  <tbody>\n",
       "    <tr>\n",
       "      <th>17416113</th>\n",
       "      <td>1172657864118194176</td>\n",
       "      <td>1344795571865989120</td>\n",
       "      <td>1344800219972726784</td>\n",
       "      <td>2021-01-01 00:18:52</td>\n",
       "      <td>2021-01-01 00:00:24</td>\n",
       "      <td>0</td>\n",
       "      <td>0</td>\n",
       "      <td>0</td>\n",
       "      <td>0</td>\n",
       "      <td>-1</td>\n",
       "      <td>1</td>\n",
       "    </tr>\n",
       "    <tr>\n",
       "      <th>17416112</th>\n",
       "      <td>1172657864118194176</td>\n",
       "      <td>1344803663647272960</td>\n",
       "      <td>1344795571865989120</td>\n",
       "      <td>2021-01-01 00:32:33</td>\n",
       "      <td>2021-01-01 00:00:24</td>\n",
       "      <td>0</td>\n",
       "      <td>0</td>\n",
       "      <td>0</td>\n",
       "      <td>0</td>\n",
       "      <td>0</td>\n",
       "      <td>0</td>\n",
       "    </tr>\n",
       "    <tr>\n",
       "      <th>17416111</th>\n",
       "      <td>1172657864118194176</td>\n",
       "      <td>1344803663647272960</td>\n",
       "      <td>1344800219972726784</td>\n",
       "      <td>2021-01-01 00:32:33</td>\n",
       "      <td>2021-01-01 00:18:52</td>\n",
       "      <td>0</td>\n",
       "      <td>0</td>\n",
       "      <td>0</td>\n",
       "      <td>0</td>\n",
       "      <td>-1</td>\n",
       "      <td>1</td>\n",
       "    </tr>\n",
       "    <tr>\n",
       "      <th>21264726</th>\n",
       "      <td>1337163419326279680</td>\n",
       "      <td>1344805720143888384</td>\n",
       "      <td>1344804446698672128</td>\n",
       "      <td>2021-01-01 00:40:43</td>\n",
       "      <td>2021-01-01 00:35:40</td>\n",
       "      <td>1</td>\n",
       "      <td>0</td>\n",
       "      <td>0</td>\n",
       "      <td>0</td>\n",
       "      <td>0</td>\n",
       "      <td>0</td>\n",
       "    </tr>\n",
       "    <tr>\n",
       "      <th>3279199</th>\n",
       "      <td>20207761</td>\n",
       "      <td>1344806765590884352</td>\n",
       "      <td>1344806944675131392</td>\n",
       "      <td>2021-01-01 00:45:35</td>\n",
       "      <td>2021-01-01 00:44:52</td>\n",
       "      <td>0</td>\n",
       "      <td>0</td>\n",
       "      <td>0</td>\n",
       "      <td>0</td>\n",
       "      <td>0</td>\n",
       "      <td>0</td>\n",
       "    </tr>\n",
       "  </tbody>\n",
       "</table>\n",
       "</div>"
      ],
      "text/plain": [
       "                       author            tweet_id1            tweet_id2  \\\n",
       "17416113  1172657864118194176  1344795571865989120  1344800219972726784   \n",
       "17416112  1172657864118194176  1344803663647272960  1344795571865989120   \n",
       "17416111  1172657864118194176  1344803663647272960  1344800219972726784   \n",
       "21264726  1337163419326279680  1344805720143888384  1344804446698672128   \n",
       "3279199              20207761  1344806765590884352  1344806944675131392   \n",
       "\n",
       "                    max_date            min_date  winner  urls  video  \\\n",
       "17416113 2021-01-01 00:18:52 2021-01-01 00:00:24       0     0      0   \n",
       "17416112 2021-01-01 00:32:33 2021-01-01 00:00:24       0     0      0   \n",
       "17416111 2021-01-01 00:32:33 2021-01-01 00:18:52       0     0      0   \n",
       "21264726 2021-01-01 00:40:43 2021-01-01 00:35:40       1     0      0   \n",
       "3279199  2021-01-01 00:45:35 2021-01-01 00:44:52       0     0      0   \n",
       "\n",
       "          hashtags  animated_gif  image  \n",
       "17416113         0            -1      1  \n",
       "17416112         0             0      0  \n",
       "17416111         0            -1      1  \n",
       "21264726         0             0      0  \n",
       "3279199          0             0      0  "
      ]
     },
     "execution_count": 11,
     "metadata": {},
     "output_type": "execute_result"
    }
   ],
   "source": [
    "for column in ['urls', 'video', 'hashtags', 'animated_gif', 'image']:\n",
    "    if column == 'image':\n",
    "        pairs[column] = pairs[column + '1'] - pairs[column + '2']\n",
    "        pairs.drop([column + '1', column + '2'], axis=1, inplace=True)\n",
    "    else:\n",
    "        pairs[column] = pairs[column + '_count1'] - pairs[column + '_count2']\n",
    "        pairs.drop([column + '_count1', column + '_count2'], axis=1, inplace=True)\n",
    "\n",
    "pairs.head()"
   ]
  },
  {
   "cell_type": "markdown",
   "id": "4da4dfba",
   "metadata": {},
   "source": [
    "Let's add embeddings to pairs."
   ]
  },
  {
   "cell_type": "code",
   "execution_count": 12,
   "id": "d34892e0",
   "metadata": {},
   "outputs": [
    {
     "data": {
      "text/html": [
       "<div>\n",
       "<style scoped>\n",
       "    .dataframe tbody tr th:only-of-type {\n",
       "        vertical-align: middle;\n",
       "    }\n",
       "\n",
       "    .dataframe tbody tr th {\n",
       "        vertical-align: top;\n",
       "    }\n",
       "\n",
       "    .dataframe thead th {\n",
       "        text-align: right;\n",
       "    }\n",
       "</style>\n",
       "<table border=\"1\" class=\"dataframe\">\n",
       "  <thead>\n",
       "    <tr style=\"text-align: right;\">\n",
       "      <th></th>\n",
       "      <th>embedding</th>\n",
       "    </tr>\n",
       "    <tr>\n",
       "      <th>id</th>\n",
       "      <th></th>\n",
       "    </tr>\n",
       "  </thead>\n",
       "  <tbody>\n",
       "    <tr>\n",
       "      <th>1588682493833551872</th>\n",
       "      <td>[-0.046264533, -0.05307058, 0.0045004673, 0.02...</td>\n",
       "    </tr>\n",
       "    <tr>\n",
       "      <th>1588682474141339648</th>\n",
       "      <td>[-0.013356083, 0.036624912, 0.021634554, 0.034...</td>\n",
       "    </tr>\n",
       "    <tr>\n",
       "      <th>1588682395393622016</th>\n",
       "      <td>[0.0073349774, -0.020072784, -0.027865734, 0.0...</td>\n",
       "    </tr>\n",
       "    <tr>\n",
       "      <th>1588682374103334912</th>\n",
       "      <td>[-0.041744243, -0.034809932, -0.011789519, 0.0...</td>\n",
       "    </tr>\n",
       "    <tr>\n",
       "      <th>1588682360253739008</th>\n",
       "      <td>[-0.026468642, -0.016022408, 0.024429057, 0.05...</td>\n",
       "    </tr>\n",
       "  </tbody>\n",
       "</table>\n",
       "</div>"
      ],
      "text/plain": [
       "                                                             embedding\n",
       "id                                                                    \n",
       "1588682493833551872  [-0.046264533, -0.05307058, 0.0045004673, 0.02...\n",
       "1588682474141339648  [-0.013356083, 0.036624912, 0.021634554, 0.034...\n",
       "1588682395393622016  [0.0073349774, -0.020072784, -0.027865734, 0.0...\n",
       "1588682374103334912  [-0.041744243, -0.034809932, -0.011789519, 0.0...\n",
       "1588682360253739008  [-0.026468642, -0.016022408, 0.024429057, 0.05..."
      ]
     },
     "execution_count": 12,
     "metadata": {},
     "output_type": "execute_result"
    }
   ],
   "source": [
    "tweets_save.set_index(\"id\", inplace=True)\n",
    "tweets_save.head()"
   ]
  },
  {
   "cell_type": "code",
   "execution_count": null,
   "id": "013106d0",
   "metadata": {},
   "outputs": [],
   "source": [
    "embeddings = tweets_save[\"embedding\"].to_dict()\n",
    "embedding_features = [str(i) for i in range(300)]\n",
    "pairs[embedding_features] = np.stack(np.subtract(\n",
    "    pairs['tweet_id1'].map(embeddings), pairs['tweet_id2'].map(embeddings)), axis=0)\n",
    "pairs.head()"
   ]
  },
  {
   "cell_type": "code",
   "execution_count": 16,
   "id": "eba91d0d",
   "metadata": {},
   "outputs": [
    {
     "name": "stdout",
     "output_type": "stream",
     "text": [
      "<class 'pandas.core.frame.DataFrame'>\n",
      "Int64Index: 23753614 entries, 17416113 to 23748673\n",
      "Columns: 311 entries, author to 299\n",
      "dtypes: datetime64[ns](2), float32(300), int64(9)\n",
      "memory usage: 28.7 GB\n"
     ]
    }
   ],
   "source": [
    "pairs.info()"
   ]
  },
  {
   "cell_type": "code",
   "execution_count": null,
   "id": "92aafa0f",
   "metadata": {},
   "outputs": [],
   "source": [
    "pairs.drop([\"tweet_id1\", \"tweet_id2\"], axis=1, inplace=True)\n",
    "pairs.info()"
   ]
  },
  {
   "cell_type": "code",
   "execution_count": null,
   "id": "e43fc96f",
   "metadata": {},
   "outputs": [],
   "source": [
    "pairs.dropna()"
   ]
  },
  {
   "cell_type": "code",
   "execution_count": null,
   "id": "f2278eca",
   "metadata": {},
   "outputs": [],
   "source": [
    "NaN_list = [i for i, x in enumerate(embeddings_diff) if np.isnan(x).any()]\n",
    "print(NaN_list)"
   ]
  },
  {
   "cell_type": "code",
   "execution_count": null,
   "id": "d519be33",
   "metadata": {},
   "outputs": [],
   "source": [
    "pairs.reset_index(drop=True, inplace=True)\n",
    "pairs.drop(NaN_list, inplace=True)\n",
    "pairs"
   ]
  },
  {
   "cell_type": "code",
   "execution_count": null,
   "id": "1acc17f9",
   "metadata": {},
   "outputs": [],
   "source": [
    "embeddings_diff = np.delete(embeddings_diff, NaN_list, 0)\n",
    "embeddings_diff.shape"
   ]
  },
  {
   "cell_type": "code",
   "execution_count": null,
   "id": "d17d03f1",
   "metadata": {},
   "outputs": [],
   "source": [
    "pairs[\"embedding\"] = embeddings_diff"
   ]
  },
  {
   "cell_type": "code",
   "execution_count": null,
   "id": "8c7657fc",
   "metadata": {},
   "outputs": [],
   "source": []
  }
 ],
 "metadata": {
  "kernelspec": {
   "display_name": "Python 3 (ipykernel)",
   "language": "python",
   "name": "python3"
  },
  "language_info": {
   "codemirror_mode": {
    "name": "ipython",
    "version": 3
   },
   "file_extension": ".py",
   "mimetype": "text/x-python",
   "name": "python",
   "nbconvert_exporter": "python",
   "pygments_lexer": "ipython3",
   "version": "3.10.8"
  }
 },
 "nbformat": 4,
 "nbformat_minor": 5
}
