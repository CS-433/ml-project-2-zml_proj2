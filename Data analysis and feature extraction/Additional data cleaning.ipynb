{
 "cells": [
  {
   "cell_type": "code",
   "execution_count": 1,
   "id": "77b1f58a",
   "metadata": {},
   "outputs": [],
   "source": [
    "import os\n",
    "from tqdm.notebook import tqdm\n",
    "import gzip\n",
    "import pandas as pd\n",
    "import seaborn as sns\n",
    "import timeit\n",
    "import json\n",
    "import matplotlib.pyplot as plt\n",
    "import numpy as np\n",
    "import emoji\n"
   ]
  },
  {
   "cell_type": "markdown",
   "id": "83d0e067",
   "metadata": {},
   "source": [
    "# Tweets"
   ]
  },
  {
   "cell_type": "code",
   "execution_count": 2,
   "id": "e3232fd8",
   "metadata": {},
   "outputs": [
    {
     "data": {
      "text/html": [
       "<div>\n",
       "<style scoped>\n",
       "    .dataframe tbody tr th:only-of-type {\n",
       "        vertical-align: middle;\n",
       "    }\n",
       "\n",
       "    .dataframe tbody tr th {\n",
       "        vertical-align: top;\n",
       "    }\n",
       "\n",
       "    .dataframe thead th {\n",
       "        text-align: right;\n",
       "    }\n",
       "</style>\n",
       "<table border=\"1\" class=\"dataframe\">\n",
       "  <thead>\n",
       "    <tr style=\"text-align: right;\">\n",
       "      <th></th>\n",
       "      <th>id</th>\n",
       "      <th>created_at</th>\n",
       "      <th>source</th>\n",
       "      <th>possibly_sensitive</th>\n",
       "      <th>author_id</th>\n",
       "      <th>text</th>\n",
       "      <th>person_annotations</th>\n",
       "      <th>place_annotations</th>\n",
       "      <th>product_annotations</th>\n",
       "      <th>organization_annotations</th>\n",
       "      <th>...</th>\n",
       "      <th>like_count</th>\n",
       "      <th>quote_count</th>\n",
       "      <th>author_name</th>\n",
       "      <th>verified</th>\n",
       "      <th>protected</th>\n",
       "      <th>profile_image_url</th>\n",
       "      <th>author_followers_count</th>\n",
       "      <th>animated_gif_count</th>\n",
       "      <th>photo_count</th>\n",
       "      <th>video_count</th>\n",
       "    </tr>\n",
       "  </thead>\n",
       "  <tbody>\n",
       "    <tr>\n",
       "      <th>0</th>\n",
       "      <td>1588682493833551872</td>\n",
       "      <td>2022-11-04 23:59:57</td>\n",
       "      <td>Twitter for iPhone</td>\n",
       "      <td>0</td>\n",
       "      <td>580633644</td>\n",
       "      <td>The business of businesses is climate-change a...</td>\n",
       "      <td>0</td>\n",
       "      <td>0</td>\n",
       "      <td>0</td>\n",
       "      <td>0</td>\n",
       "      <td>...</td>\n",
       "      <td>0</td>\n",
       "      <td>0</td>\n",
       "      <td>Robert Han @RobertHon0911</td>\n",
       "      <td>0</td>\n",
       "      <td>0</td>\n",
       "      <td>1</td>\n",
       "      <td>57</td>\n",
       "      <td>0</td>\n",
       "      <td>0</td>\n",
       "      <td>0</td>\n",
       "    </tr>\n",
       "    <tr>\n",
       "      <th>1</th>\n",
       "      <td>1588682474141339648</td>\n",
       "      <td>2022-11-04 23:59:52</td>\n",
       "      <td>Twitter Web App</td>\n",
       "      <td>1</td>\n",
       "      <td>2711676037</td>\n",
       "      <td>#howtowrite #howtopublish @authoraid \\nA case ...</td>\n",
       "      <td>0</td>\n",
       "      <td>0</td>\n",
       "      <td>0</td>\n",
       "      <td>0</td>\n",
       "      <td>...</td>\n",
       "      <td>1</td>\n",
       "      <td>0</td>\n",
       "      <td>Krishna Koushik @SapiensMyopia</td>\n",
       "      <td>0</td>\n",
       "      <td>0</td>\n",
       "      <td>1</td>\n",
       "      <td>56</td>\n",
       "      <td>0</td>\n",
       "      <td>0</td>\n",
       "      <td>0</td>\n",
       "    </tr>\n",
       "    <tr>\n",
       "      <th>2</th>\n",
       "      <td>1588682395393622016</td>\n",
       "      <td>2022-11-04 23:59:34</td>\n",
       "      <td>Twitter for iPhone</td>\n",
       "      <td>0</td>\n",
       "      <td>1573331383984226304</td>\n",
       "      <td>Hundreds of elephants, zebras die as Kenya wea...</td>\n",
       "      <td>0</td>\n",
       "      <td>0</td>\n",
       "      <td>0</td>\n",
       "      <td>0</td>\n",
       "      <td>...</td>\n",
       "      <td>1</td>\n",
       "      <td>0</td>\n",
       "      <td>Nature Chick @EarthBulletin</td>\n",
       "      <td>0</td>\n",
       "      <td>0</td>\n",
       "      <td>1</td>\n",
       "      <td>553</td>\n",
       "      <td>0</td>\n",
       "      <td>0</td>\n",
       "      <td>0</td>\n",
       "    </tr>\n",
       "    <tr>\n",
       "      <th>3</th>\n",
       "      <td>1588682374103334912</td>\n",
       "      <td>2022-11-04 23:59:28</td>\n",
       "      <td>Twitter for iPhone</td>\n",
       "      <td>0</td>\n",
       "      <td>1674604256</td>\n",
       "      <td>If the free market is the answer to our climat...</td>\n",
       "      <td>0</td>\n",
       "      <td>1</td>\n",
       "      <td>0</td>\n",
       "      <td>0</td>\n",
       "      <td>...</td>\n",
       "      <td>0</td>\n",
       "      <td>0</td>\n",
       "      <td>Nick Yates @nickyatesworld</td>\n",
       "      <td>0</td>\n",
       "      <td>0</td>\n",
       "      <td>1</td>\n",
       "      <td>190</td>\n",
       "      <td>0</td>\n",
       "      <td>0</td>\n",
       "      <td>0</td>\n",
       "    </tr>\n",
       "    <tr>\n",
       "      <th>4</th>\n",
       "      <td>1588682360253739008</td>\n",
       "      <td>2022-11-04 23:59:25</td>\n",
       "      <td>Twitter for iPhone</td>\n",
       "      <td>0</td>\n",
       "      <td>1144336826133442560</td>\n",
       "      <td>Tuned in to the local Seattle fake, corrupt, w...</td>\n",
       "      <td>0</td>\n",
       "      <td>1</td>\n",
       "      <td>0</td>\n",
       "      <td>0</td>\n",
       "      <td>...</td>\n",
       "      <td>3</td>\n",
       "      <td>0</td>\n",
       "      <td>greg vanommeren @GregVanommeren</td>\n",
       "      <td>0</td>\n",
       "      <td>0</td>\n",
       "      <td>1</td>\n",
       "      <td>521</td>\n",
       "      <td>0</td>\n",
       "      <td>0</td>\n",
       "      <td>0</td>\n",
       "    </tr>\n",
       "  </tbody>\n",
       "</table>\n",
       "<p>5 rows × 30 columns</p>\n",
       "</div>"
      ],
      "text/plain": [
       "                    id          created_at              source  \\\n",
       "0  1588682493833551872 2022-11-04 23:59:57  Twitter for iPhone   \n",
       "1  1588682474141339648 2022-11-04 23:59:52     Twitter Web App   \n",
       "2  1588682395393622016 2022-11-04 23:59:34  Twitter for iPhone   \n",
       "3  1588682374103334912 2022-11-04 23:59:28  Twitter for iPhone   \n",
       "4  1588682360253739008 2022-11-04 23:59:25  Twitter for iPhone   \n",
       "\n",
       "   possibly_sensitive            author_id  \\\n",
       "0                   0            580633644   \n",
       "1                   1           2711676037   \n",
       "2                   0  1573331383984226304   \n",
       "3                   0           1674604256   \n",
       "4                   0  1144336826133442560   \n",
       "\n",
       "                                                text  person_annotations  \\\n",
       "0  The business of businesses is climate-change a...                   0   \n",
       "1  #howtowrite #howtopublish @authoraid \\nA case ...                   0   \n",
       "2  Hundreds of elephants, zebras die as Kenya wea...                   0   \n",
       "3  If the free market is the answer to our climat...                   0   \n",
       "4  Tuned in to the local Seattle fake, corrupt, w...                   0   \n",
       "\n",
       "   place_annotations  product_annotations  organization_annotations  ...  \\\n",
       "0                  0                    0                         0  ...   \n",
       "1                  0                    0                         0  ...   \n",
       "2                  0                    0                         0  ...   \n",
       "3                  1                    0                         0  ...   \n",
       "4                  1                    0                         0  ...   \n",
       "\n",
       "   like_count  quote_count                      author_name  verified  \\\n",
       "0           0            0        Robert Han @RobertHon0911         0   \n",
       "1           1            0   Krishna Koushik @SapiensMyopia         0   \n",
       "2           1            0      Nature Chick @EarthBulletin         0   \n",
       "3           0            0       Nick Yates @nickyatesworld         0   \n",
       "4           3            0  greg vanommeren @GregVanommeren         0   \n",
       "\n",
       "   protected  profile_image_url  author_followers_count  animated_gif_count  \\\n",
       "0          0                  1                      57                   0   \n",
       "1          0                  1                      56                   0   \n",
       "2          0                  1                     553                   0   \n",
       "3          0                  1                     190                   0   \n",
       "4          0                  1                     521                   0   \n",
       "\n",
       "   photo_count  video_count  \n",
       "0            0            0  \n",
       "1            0            0  \n",
       "2            0            0  \n",
       "3            0            0  \n",
       "4            0            0  \n",
       "\n",
       "[5 rows x 30 columns]"
      ]
     },
     "execution_count": 2,
     "metadata": {},
     "output_type": "execute_result"
    }
   ],
   "source": [
    "tweets = pd.read_pickle('data/tweets.pkl.bz2', compression='bz2')\n",
    "tweets.head()"
   ]
  },
  {
   "cell_type": "code",
   "execution_count": 3,
   "id": "2df7679c",
   "metadata": {},
   "outputs": [
    {
     "data": {
      "text/plain": [
       "(7581574, 30)"
      ]
     },
     "execution_count": 3,
     "metadata": {},
     "output_type": "execute_result"
    }
   ],
   "source": [
    "tweets.shape"
   ]
  },
  {
   "cell_type": "code",
   "execution_count": 4,
   "id": "c8927ff3",
   "metadata": {},
   "outputs": [
    {
     "data": {
      "text/plain": [
       "(7581574, 30)"
      ]
     },
     "execution_count": 4,
     "metadata": {},
     "output_type": "execute_result"
    }
   ],
   "source": [
    "tweets.drop_duplicates(subset=['id'], inplace=True)\n",
    "tweets.shape"
   ]
  },
  {
   "cell_type": "code",
   "execution_count": 8,
   "id": "0a7ac968",
   "metadata": {},
   "outputs": [
    {
     "data": {
      "text/plain": [
       "Int64Index([  12988,   40180,   92294,  120404,  139908,  194635,  290973,\n",
       "             347163,  441678,  461956,\n",
       "            ...\n",
       "            7036685, 7036976, 7037268, 7037428, 7155838, 7174035, 7302006,\n",
       "            7396346, 7457861, 7458562],\n",
       "           dtype='int64', length=159)"
      ]
     },
     "execution_count": 8,
     "metadata": {},
     "output_type": "execute_result"
    }
   ],
   "source": [
    "# remove emojis\n",
    "import re\n",
    "def find_emojis(text):\n",
    "        regrex_pattern = re.compile(pattern = \"[\"\n",
    "        u\"\\U0001F600-\\U0001F64F\"  # emoticons\n",
    "        u\"\\U0001F300-\\U0001F5FF\"  # symbols & pictographs\n",
    "        u\"\\U0001F680-\\U0001F6FF\"  # transport & map symbols\n",
    "        u\"\\U0001F1E0-\\U0001F1FF\"  # flags (iOS)\n",
    "                           \"]+\", flags = re.UNICODE)\n",
    "        emojis = regrex_pattern.search(text)\n",
    "        return emojis\n",
    "\n",
    "\n",
    "indexs = tweets.text[~tweets['text'].map(find_emojis).isna()].index\n",
    "indexs"
   ]
  },
  {
   "cell_type": "code",
   "execution_count": 6,
   "id": "c5f2396b",
   "metadata": {},
   "outputs": [
    {
     "name": "stdout",
     "output_type": "stream",
     "text": [
      "The house is on fire!\n"
     ]
    }
   ],
   "source": [
    "from emoji_translate.emoji_translate import Translator\n",
    "\n",
    "emo = Translator(exact_match_only=False, randomize=True)\n",
    "\n",
    "# basic translation\n",
    "print(emo.demojify('The 🏠 is on 🔥!'))         # > 'The house is on fire!'"
   ]
  },
  {
   "cell_type": "code",
   "execution_count": 9,
   "id": "a04f1e8f",
   "metadata": {},
   "outputs": [
    {
     "data": {
      "text/plain": [
       "id                                                        1588379209810206720\n",
       "created_at                                                2022-11-04 03:54:48\n",
       "source                                                    Twitter for Android\n",
       "possibly_sensitive                                                          0\n",
       "author_id                                                 1393778718032764928\n",
       "text                        ONE HEALTH connects people :man_farmer:woman‍a...\n",
       "person_annotations                                                          0\n",
       "place_annotations                                                           0\n",
       "product_annotations                                                         0\n",
       "organization_annotations                                                    0\n",
       "other_annotations                                                           0\n",
       "urls_count                                                                  1\n",
       "url_image_count                                                             0\n",
       "mentions_count                                                              0\n",
       "mentions_verifications                                                      0\n",
       "mentions_followers                                                          0\n",
       "hashtags                                                                    3\n",
       "cashtags                                                                    0\n",
       "retweet_count                                                               0\n",
       "reply_count                                                                 0\n",
       "like_count                                                                  4\n",
       "quote_count                                                                 0\n",
       "author_name                                 HARINDIMANA Fabrice @Lee_Fabricee\n",
       "verified                                                                    0\n",
       "protected                                                                   0\n",
       "profile_image_url                                                           1\n",
       "author_followers_count                                                    899\n",
       "animated_gif_count                                                          0\n",
       "photo_count                                                                 1\n",
       "video_count                                                                 0\n",
       "Name: 12988, dtype: object"
      ]
     },
     "execution_count": 9,
     "metadata": {},
     "output_type": "execute_result"
    }
   ],
   "source": [
    "tweets.loc[indexs,\"text\"] = tweets.loc[indexs,\"text\"].map(emo.demojify)\n",
    "tweets.iloc[12988]"
   ]
  },
  {
   "cell_type": "code",
   "execution_count": 10,
   "id": "6994b3c9",
   "metadata": {},
   "outputs": [
    {
     "name": "stdout",
     "output_type": "stream",
     "text": [
      "<class 'pandas.core.frame.DataFrame'>\n",
      "Int64Index: 7581574 entries, 0 to 7581709\n",
      "Data columns (total 30 columns):\n",
      " #   Column                    Dtype         \n",
      "---  ------                    -----         \n",
      " 0   id                        int64         \n",
      " 1   created_at                datetime64[ns]\n",
      " 2   source                    object        \n",
      " 3   possibly_sensitive        int64         \n",
      " 4   author_id                 int64         \n",
      " 5   text                      object        \n",
      " 6   person_annotations        int64         \n",
      " 7   place_annotations         int64         \n",
      " 8   product_annotations       int64         \n",
      " 9   organization_annotations  int64         \n",
      " 10  other_annotations         int64         \n",
      " 11  urls_count                int64         \n",
      " 12  url_image_count           int64         \n",
      " 13  mentions_count            int64         \n",
      " 14  mentions_verifications    int64         \n",
      " 15  mentions_followers        int64         \n",
      " 16  hashtags                  int64         \n",
      " 17  cashtags                  int64         \n",
      " 18  retweet_count             int64         \n",
      " 19  reply_count               int64         \n",
      " 20  like_count                int64         \n",
      " 21  quote_count               int64         \n",
      " 22  author_name               object        \n",
      " 23  verified                  int64         \n",
      " 24  protected                 int64         \n",
      " 25  profile_image_url         int64         \n",
      " 26  author_followers_count    int64         \n",
      " 27  animated_gif_count        int64         \n",
      " 28  photo_count               int64         \n",
      " 29  video_count               int64         \n",
      "dtypes: datetime64[ns](1), int64(26), object(3)\n",
      "memory usage: 2.0+ GB\n"
     ]
    }
   ],
   "source": [
    "tweets.info()"
   ]
  },
  {
   "cell_type": "code",
   "execution_count": 11,
   "id": "cc6f7008",
   "metadata": {},
   "outputs": [],
   "source": [
    "tweets.to_pickle('data/tweets.pkl.bz2',  compression='bz2')"
   ]
  },
  {
   "cell_type": "code",
   "execution_count": null,
   "id": "ce61ebba",
   "metadata": {},
   "outputs": [],
   "source": [
    "data = pd.read_pickle('../tweets.pkl.bz2', compression='bz2')\n",
    "data.info()"
   ]
  },
  {
   "cell_type": "markdown",
   "id": "63dea035",
   "metadata": {},
   "source": [
    "# Paired tweets"
   ]
  },
  {
   "cell_type": "markdown",
   "id": "bee82c5d",
   "metadata": {},
   "source": [
    "We should drop the text columns as they are memory intensive and unnecessary as we have already embedded the text for each tweet."
   ]
  },
  {
   "cell_type": "code",
   "execution_count": null,
   "id": "cfd95582",
   "metadata": {},
   "outputs": [],
   "source": []
  }
 ],
 "metadata": {
  "kernelspec": {
   "display_name": "Python 3 (ipykernel)",
   "language": "python",
   "name": "python3"
  },
  "language_info": {
   "codemirror_mode": {
    "name": "ipython",
    "version": 3
   },
   "file_extension": ".py",
   "mimetype": "text/x-python",
   "name": "python",
   "nbconvert_exporter": "python",
   "pygments_lexer": "ipython3",
   "version": "3.10.8"
  }
 },
 "nbformat": 4,
 "nbformat_minor": 5
}
